{
 "cells": [
  {
   "cell_type": "code",
   "execution_count": 1,
   "metadata": {},
   "outputs": [],
   "source": [
    "import matplotlib.patches as patches\n",
    "import matplotlib.pyplot as plt\n",
    "import numpy as np\n",
    "import math\n",
    "from operator import itemgetter\n",
    "from scipy import interpolate\n",
    "from ctypes import *\n",
    "from scipy import ndimage\n",
    "from matplotlib.pyplot import imshow\n",
    "from PIL import Image, ImageDraw, ImageFilter\n",
    "import cv2 \n",
    "import random\n",
    "from scipy.ndimage.filters import generic_filter"
   ]
  },
  {
   "cell_type": "markdown",
   "metadata": {},
   "source": [
    "# Метод роста областей"
   ]
  },
  {
   "cell_type": "code",
   "execution_count": 2,
   "metadata": {},
   "outputs": [],
   "source": [
    "class Method_of_grow:\n",
    "    def __init__(self, im_path,th):\n",
    "        self.im = cv2.resize(cv2.imread(im_path, 1), (256, 256))\n",
    "        self.h, self.w, _ = self.im.shape\n",
    "        self.passed_by = np.zeros((self.h, self.w), np.double)\n",
    "        self.current_region = 0\n",
    "        self.iterations = 0\n",
    "        self.segments = np.zeros((self.h, self.w, 3), dtype='uint8')\n",
    "        self.stack = []\n",
    "        self.thresh = float(th)\n",
    "\n",
    "        \n",
    "\n",
    "    def get_neighbour(self, x0, y0):\n",
    "        neighbour = []\n",
    "        for i in (-1, 0, 1):\n",
    "            for j in (-1, 0, 1):\n",
    "                if (i, j) == (0, 0):\n",
    "                    continue\n",
    "                x = x0 + i\n",
    "                y = y0 + j\n",
    "                if self.limit(x, y):\n",
    "                    neighbour.append((x, y))\n",
    "        return neighbour\n",
    "\n",
    "    def apply_region_grow(self):\n",
    "        random_seeds = [[self.h / 2, self.w / 2],\n",
    "                       [self.h / 3, self.w / 3], [2 * self.h / 3, self.w / 3], [self.h / 3 - 10, self.w / 3],\n",
    "                       [self.h / 3, 2 * self.w / 3], [2 * self.h / 3, 2 * self.w / 3],\n",
    "                       [self.h / 3 - 10, 2 * self.w / 3],\n",
    "                       [self.h / 3, self.w - 10], [2 * self.h / 3, self.w - 10], [self.h / 3 - 10, self.w - 10]\n",
    "                       ]\n",
    "        np.random.shuffle(random_seeds)\n",
    "        for x0 in range(self.h):\n",
    "            for y0 in range(self.w):\n",
    "                if self.passed_by[x0, y0] == 0 and (\n",
    "                        int(self.im[x0, y0, 0]) * int(self.im[x0, y0, 1]) * int(self.im[x0, y0, 2]) > 0):\n",
    "                    self.current_region += 1\n",
    "                    self.passed_by[x0, y0] = self.current_region\n",
    "                    self.stack.append((x0, y0))\n",
    "                    self.prev_region_count = 0\n",
    "                    while not len(self.stack) == 0:\n",
    "                        x, y = self.stack.pop()\n",
    "                        self.bfs(x, y)\n",
    "                        self.iterations += 1\n",
    "                    if self.passed_all():\n",
    "                        break\n",
    "                    if self.prev_region_count < 8 * 8:\n",
    "                        self.passed_by[self.passed_by == self.current_region] = 0\n",
    "                        x0 = random.randint(x0 - 4, x0 + 4)\n",
    "                        x0 = max(0, x0)\n",
    "                        x0 = min(x0, self.h - 1)\n",
    "                        self.current_region -= 1\n",
    "\n",
    "        for i in range(0, self.h):\n",
    "            for j in range(0, self.w):\n",
    "                val = self.passed_by[i][j]\n",
    "                if val == 0:\n",
    "                    self.segments[i][j] = 255, 255, 255\n",
    "                else:\n",
    "                    self.segments[i][j] = val * 35, val * 90, val * 30\n",
    "        return self.segments\n",
    "\n",
    "    def bfs(self, x0, y0):\n",
    "        region_num = self.passed_by[x0, y0]\n",
    "        elements = [(int(self.im[x0, y0, 0]) + int(self.im[x0, y0, 1]) + int(self.im[x0, y0, 2])) / 3]\n",
    "        var = self.thresh\n",
    "        neighbours = self.get_neighbour(x0, y0)\n",
    "        for x, y in neighbours:\n",
    "            if self.passed_by[x, y] == 0 and self.distance(x, y, x0, y0) < var:\n",
    "                if self.passed_all():\n",
    "                    break\n",
    "                self.passed_by[x, y] = region_num\n",
    "                self.stack.append((x, y))\n",
    "                elements.append((int(self.im[x, y, 0]) + int(self.im[x, y, 1]) + int(self.im[x, y, 2])) / 3)\n",
    "                var = np.var(elements)\n",
    "                self.prev_region_count += 1\n",
    "            var = max(var, self.thresh)\n",
    "\n",
    "    def passed_all(self):\n",
    "        return self.iterations > 200000 or np.count_nonzero(self.passed_by > 0) == self.w * self.h\n",
    "\n",
    "    def limit(self, x, y):\n",
    "        return 0 <= x < self.h and 0 <= y < self.w\n",
    "\n",
    "    def distance(self, x, y, x0, y0):\n",
    "        return ((int(self.im[x, y, 0]) - int(self.im[x0, y0, 0])) ** 2 + (\n",
    "                int(self.im[x, y, 1]) - int(self.im[x0, y0, 1])) ** 2 + (\n",
    "                        int(self.im[x, y, 2]) - int(self.im[x0, y0, 2])) ** 2) ** 0.5"
   ]
  },
  {
   "cell_type": "code",
   "execution_count": 6,
   "metadata": {},
   "outputs": [
    {
     "data": {
      "image/png": "[encoded data removed]",
      "text/plain": [
       "<PIL.Image.Image image mode=RGB size=256x256 at 0x2193EAE1148>"
      ]
     },
     "execution_count": 6,
     "metadata": {},
     "output_type": "execute_result"
    }
   ],
   "source": [
    "result_img = Method_of_grow(\"images/14.jpg\",6)\n",
    "saving = Image.fromarray(result_img.apply_region_grow()).convert(\"RGB\")\n",
    "saving.save('images/Сегментация изображения.jpg', \"JPEG\")\n",
    "saving"
   ]
  }
 ],
 "metadata": {
  "kernelspec": {
   "display_name": "Python 3",
   "language": "python",
   "name": "python3"
  },
  "language_info": {
   "codemirror_mode": {
    "name": "ipython",
    "version": 3
   },
   "file_extension": ".py",
   "mimetype": "text/x-python",
   "name": "python",
   "nbconvert_exporter": "python",
   "pygments_lexer": "ipython3",
   "version": "3.7.6"
  }
 },
 "nbformat": 4,
 "nbformat_minor": 4
}
