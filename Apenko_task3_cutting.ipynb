{
 "cells": [
  {
   "cell_type": "code",
   "execution_count": 1,
   "metadata": {},
   "outputs": [],
   "source": [
    "import matplotlib.patches as patches\n",
    "import matplotlib.pyplot as plt\n",
    "import numpy as np\n",
    "import matplotlib.animation as animation\n",
    "import math\n",
    "from operator import itemgetter"
   ]
  },
  {
   "cell_type": "code",
   "execution_count": 2,
   "metadata": {},
   "outputs": [],
   "source": [
    "def user_input_bar():\n",
    "    points = []\n",
    "    print(\"Введите две точки для задания отрезка:\")\n",
    "    x, y = map(int, input().split())\n",
    "    points.append([x,y])\n",
    "    flag = True\n",
    "    while (flag):\n",
    "        x, y = map(int, input().split())\n",
    "        points.append([x,y])\n",
    "        if (len(points) == 2):\n",
    "            flag = False       \n",
    "    return points"
   ]
  },
  {
   "cell_type": "code",
   "execution_count": 3,
   "metadata": {},
   "outputs": [],
   "source": [
    "def user_input_rectangle():\n",
    "    points = []\n",
    "    print(\"Введите x,y точки для задания прямоугольного окна, и его длину, ширину:\")\n",
    "    x, y = map(int, input().split())\n",
    "    points.append([x,y])\n",
    "    flag = True\n",
    "    while (flag):\n",
    "        x, y = map(int, input().split())\n",
    "        points.append([x,y])\n",
    "        if (len(points) == 2):\n",
    "            flag = False       \n",
    "    return points"
   ]
  },
  {
   "cell_type": "code",
   "execution_count": 4,
   "metadata": {},
   "outputs": [],
   "source": [
    "def user_input_window():\n",
    "    points = []\n",
    "    print(\"Введите точки для задания произвольного окна:\")\n",
    "    x, y = map(int, input().split())\n",
    "    points.append([x,y])\n",
    "    flag = True\n",
    "    while (flag):\n",
    "        x, y = map(int, input().split())\n",
    "        points.append([x,y])\n",
    "        if (points[0][0] == x and points[0][1] == y):\n",
    "            flag = False       \n",
    "    return points"
   ]
  },
  {
   "cell_type": "code",
   "execution_count": 5,
   "metadata": {},
   "outputs": [],
   "source": [
    "def get_code(bar, rect):\n",
    "    \n",
    "    #задаим коды концов в двоичном представлении \n",
    "    RIGHT = 2   # 0010\n",
    "    LEFT = 1    # 0001\n",
    "    INSIDE = 0  # 0000\n",
    "    TOP = 8     # 1000\n",
    "    BOTTOM = 4  # 0100\n",
    "    \n",
    "    x_min = rect.get_x()\n",
    "    y_min = rect.get_y()\n",
    "    x_max = rect.get_width() + x_min\n",
    "    y_max = rect.get_height() + y_min\n",
    "\n",
    "    code=INSIDE\n",
    "\n",
    "    if bar[0] < x_min:\n",
    "        code |= LEFT\n",
    "    elif bar[0] > x_max:\n",
    "        code |= RIGHT\n",
    "\n",
    "    if bar[1] < y_min:\n",
    "        code |= BOTTOM\n",
    "    elif bar[1] > y_max:\n",
    "        code |= TOP\n",
    "        \n",
    "    return code    "
   ]
  },
  {
   "cell_type": "markdown",
   "metadata": {},
   "source": [
    "       Алгоритм Коэна-Сазерленда \n",
    "(двумерное отсечение отрезка сторонами окна)"
   ]
  },
  {
   "cell_type": "code",
   "execution_count": 6,
   "metadata": {},
   "outputs": [],
   "source": [
    "def Cohen_Sutherland(bar, rect):\n",
    "    \n",
    "    RIGHT = 2   # 0010\n",
    "    LEFT = 1    # 0001\n",
    "    INSIDE = 0  # 0000\n",
    "    TOP = 8     # 1000\n",
    "    BOTTOM = 4  # 0100\n",
    "\n",
    "    x_min = rect.get_x()\n",
    "    y_min = rect.get_y()\n",
    "    x_max = rect.get_width() + x_min\n",
    "    y_max = rect.get_height() + y_min\n",
    "    \n",
    "    ax = plt.gca()\n",
    "\n",
    "    position_0 = get_code(bar[0], rect)\n",
    "    position_1 = get_code(bar[1],rect)\n",
    "    accept = False\n",
    "    while True:\n",
    "        if not(position_0|position_1):\n",
    "            accept= True\n",
    "            break\n",
    "        elif position_0 & position_1:\n",
    "            break\n",
    "        else:\n",
    "            x, y = [0,0]\n",
    "            position_out = position_1 if position_1 > position_0 else position_0\n",
    "            if position_out & TOP:\n",
    "                x = bar[0][0] + (bar[1][0] - bar[0][0]) * (y_max - bar[0][1]) / (bar[1][1] - bar[0][1])\n",
    "                y = y_max\n",
    "            elif position_out & BOTTOM:\n",
    "                x = bar[0][0] + (bar[1][0] - bar[0][0]) * (y_min - bar[0][1]) / (bar[1][1] - bar[0][1])\n",
    "                y = y_min\n",
    "            elif position_out & RIGHT :\n",
    "                y = bar[0][1] + (bar[1][1] - bar[0][1]) * (x_max - bar[0][0]) / (bar[1][0] - bar[0][0])\n",
    "                x = x_max\n",
    "            elif position_out & LEFT:\n",
    "                y = bar[0][1] + (bar[1][1] - bar[0][1]) * (x_min - bar[0][0]) / (bar[1][0] - bar[0][0])\n",
    "                x = x_min\n",
    "\n",
    "            if position_out == position_0:\n",
    "                bar[0][0] = x\n",
    "                bar[0][1] = y\n",
    "                position_0 = get_code(bar[0], rect)\n",
    "            else:\n",
    "                bar[1][0] = x\n",
    "                bar[1][1] = y\n",
    "                position_1 = get_code(bar[1], rect)\n",
    "    if accept:\n",
    "        w = x_max - x_min\n",
    "        h = y_max - y_min\n",
    "        rect = patches.Rectangle((x_min,y_min),w,h, edgecolor='r')\n",
    "        ax.add_patch(rect)\n",
    "        ax.plot([bar[0][0],bar[1][0]], [bar[0][1],bar[1][1]], color='salmon')\n",
    "        plt.axis('scaled')\n",
    "        plt.show()"
   ]
  },
  {
   "cell_type": "code",
   "execution_count": 10,
   "metadata": {},
   "outputs": [
    {
     "name": "stdout",
     "output_type": "stream",
     "text": [
      "Введите x,y точки для задания прямоугольного окна, и его длину, ширину:\n",
      "5 6\n",
      "10 8\n",
      "Введите две точки для задания отрезка:\n",
      "25 12\n",
      "7 5\n"
     ]
    },
    {
     "data": {
      "image/png": "[encoded data removed]",
      "text/plain": [
       "<Figure size 432x288 with 1 Axes>"
      ]
     },
     "metadata": {
      "needs_background": "light"
     },
     "output_type": "display_data"
    }
   ],
   "source": [
    "ax = plt.gca()\n",
    "\n",
    "points_for_rect = user_input_rectangle()\n",
    "\n",
    "bar_for_1alg = user_input_bar()\n",
    "ax.plot([bar_for_1alg[0][0],bar_for_1alg[1][0]], [bar_for_1alg[0][1],bar_for_1alg[1][1]], color='salmon')\n",
    "\n",
    "rect = patches.Rectangle((points_for_rect[0][0],points_for_rect[0][1]),points_for_rect[1][0],points_for_rect[1][1], edgecolor='r')\n",
    "\n",
    "ax.add_patch(rect)\n",
    "\n",
    "plt.axis('scaled')\n",
    "plt.show()"
   ]
  },
  {
   "cell_type": "code",
   "execution_count": 11,
   "metadata": {},
   "outputs": [
    {
     "data": {
      "image/png": "[encoded data removed]",
      "text/plain": [
       "<Figure size 432x288 with 1 Axes>"
      ]
     },
     "metadata": {
      "needs_background": "light"
     },
     "output_type": "display_data"
    }
   ],
   "source": [
    "Cohen_Sutherland(bar_for_1alg, rect)"
   ]
  },
  {
   "cell_type": "markdown",
   "metadata": {},
   "source": [
    "    Алгоритм Кируса-Бека\n",
    "\n"
   ]
  },
  {
   "cell_type": "code",
   "execution_count": 12,
   "metadata": {},
   "outputs": [],
   "source": [
    "def dot( p0_x, p0_y, p1_x, p1_y):\n",
    "    return p0_x * p1_x+ p0_y * p1_y"
   ]
  },
  {
   "cell_type": "code",
   "execution_count": 13,
   "metadata": {},
   "outputs": [],
   "source": [
    "def Cyrus_Beck(points,bar):\n",
    "    normal=[]\n",
    "    n=len(points)\n",
    "    for i in range(0,n):\n",
    "        normal.append((points[i][1] - points[(i + 1) % n][1],points[(i + 1) % n][0] - points[i][0]))\n",
    "    p1_p0=(bar[1][0] - bar[0][0], bar[1][1] - bar[0][1])\n",
    "    p0_pei=[]\n",
    "    for point in points:\n",
    "        p0_pei.append((point[0] - bar[0][0],point[1] - bar[0][1]))\n",
    "    numerator=[]\n",
    "    denominator=[]\n",
    "    for i in range(0,n):\n",
    "        normal_i=normal[i]\n",
    "        p0_pei_i=p0_pei[i]\n",
    "        numerator.append(dot(normal_i[0],normal_i[1], p0_pei_i[0],p0_pei_i[1]))\n",
    "        denominator.append(dot(normal_i[0],normal_i[1], p1_p0[0],p1_p0[1]))\n",
    "    t=[]\n",
    "    t_e=[]\n",
    "    t_l=[]\n",
    "    for i in range(0,n):\n",
    "        if denominator[i]==0:\n",
    "            curr_t=-math.inf\n",
    "        else:\n",
    "            curr_t=numerator[i]/denominator[i]\n",
    "        t.append(curr_t)\n",
    "        if denominator[i]>0:\n",
    "            t_e.append(curr_t)\n",
    "        else:\n",
    "            t_l.append(curr_t)\n",
    "    t_e.append(1)\n",
    "    t_l.append(0)\n",
    "    t_e.reverse()\n",
    "    t_l.reverse()\n",
    "    temp=(min(t_e),max(t_l))\n",
    "    if temp[0] < temp[1]:\n",
    "        return [(-1, -1),(-1, -1)]\n",
    "    start=(bar[0][0] + p1_p0[0] * temp[0],bar[0][1] + p1_p0[1] * temp[0])\n",
    "    end=(bar[0][0]+ p1_p0[0] * temp[1],bar[0][1] + p1_p0[1] * temp[1])\n",
    "    return [start,end]"
   ]
  },
  {
   "cell_type": "code",
   "execution_count": 14,
   "metadata": {},
   "outputs": [
    {
     "name": "stdout",
     "output_type": "stream",
     "text": [
      "Введите точки для задания произвольного окна:\n",
      "5 5\n",
      "5 17\n",
      "10 12\n",
      "15 17\n",
      "15 5\n",
      "5 5\n",
      "Введите две точки для задания отрезка:\n",
      "0 7\n",
      "20 7\n"
     ]
    },
    {
     "data": {
      "image/png": "[encoded data removed]",
      "text/plain": [
       "<Figure size 432x288 with 1 Axes>"
      ]
     },
     "metadata": {
      "needs_background": "light"
     },
     "output_type": "display_data"
    }
   ],
   "source": [
    "ax = plt.gca()\n",
    "\n",
    "points = user_input_window()\n",
    "for i in range(0,len(points)-1):\n",
    "        plt.plot((points[i][0],points[i+1][0]),(points[i][1],points[i+1][1]), c = 'b')\n",
    "\n",
    "bar = user_input_bar()\n",
    "ax.plot([bar[0][0],bar[1][0]], [bar[0][1],bar[1][1]], color='salmon')\n",
    "plt.axis('scaled')\n",
    "plt.show()"
   ]
  },
  {
   "cell_type": "code",
   "execution_count": 15,
   "metadata": {},
   "outputs": [
    {
     "data": {
      "image/png": "[encoded data removed]",
      "text/plain": [
       "<Figure size 432x288 with 1 Axes>"
      ]
     },
     "metadata": {
      "needs_background": "light"
     },
     "output_type": "display_data"
    }
   ],
   "source": [
    "new_bar = Cyrus_Beck(points,bar)\n",
    "\n",
    "ax = plt.gca()\n",
    "\n",
    "for i in range(0,len(points)-1):\n",
    "        plt.plot((points[i][0],points[i+1][0]),(points[i][1],points[i+1][1]), c = 'b')\n",
    "\n",
    "ax.plot([new_bar[0][0],new_bar[1][0]], [new_bar[0][1],new_bar[1][1]], color='salmon')\n",
    "plt.axis('scaled')\n",
    "plt.show()"
   ]
  },
  {
   "cell_type": "code",
   "execution_count": null,
   "metadata": {},
   "outputs": [],
   "source": []
  }
 ],
 "metadata": {
  "kernelspec": {
   "display_name": "Python 3",
   "language": "python",
   "name": "python3"
  },
  "language_info": {
   "codemirror_mode": {
    "name": "ipython",
    "version": 3
   },
   "file_extension": ".py",
   "mimetype": "text/x-python",
   "name": "python",
   "nbconvert_exporter": "python",
   "pygments_lexer": "ipython3",
   "version": "3.7.6"
  }
 },
 "nbformat": 4,
 "nbformat_minor": 4
}
