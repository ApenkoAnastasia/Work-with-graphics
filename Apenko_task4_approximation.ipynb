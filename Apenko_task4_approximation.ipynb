{
 "cells": [
  {
   "cell_type": "code",
   "execution_count": 1,
   "metadata": {},
   "outputs": [],
   "source": [
    "import matplotlib.patches as patches\n",
    "import matplotlib.pyplot as plt\n",
    "import numpy as np\n",
    "import matplotlib.animation as animation\n",
    "import math\n",
    "from operator import itemgetter\n",
    "from scipy import interpolate"
   ]
  },
  {
   "cell_type": "code",
   "execution_count": 2,
   "metadata": {},
   "outputs": [],
   "source": [
    "def sample_Cubic_Splines_With_Derivative(points, tangents, resolution):\n",
    "    resolution = float(resolution)\n",
    "    points = np.asarray(points)\n",
    "    nPoints, dim = points.shape\n",
    "\n",
    "       # Параметризация параметра s.\n",
    "    dp = np.diff(points, axis=0)                 # разность между точками\n",
    "    dp = np.linalg.norm(dp, axis=1)              # расстояние между точками\n",
    "    d = np.cumsum(dp)                            # накапливаемая сумма по сегментам\n",
    "    d = np.hstack([[0],d])                       # добавляем расстояние от первой точки\n",
    "    l = d[-1]                                    # длина последовательности точек\n",
    "    nSamples = int(l/resolution)                 # количество выборки (сегментов)\n",
    "    s,r = np.linspace(0,l,nSamples,retstep=True) # параметр и шаг\n",
    "\n",
    "       # Приводим точки и касательную в правильный формат.\n",
    "    assert(len(points) == len(tangents))\n",
    "    data = np.empty([nPoints, dim], dtype=object)\n",
    "    for i,p in enumerate(points):\n",
    "        t = tangents[i]\n",
    "           # Либо касательная None, либо имеет тот же размер\n",
    "           # количество размерностей в качестве точки р.\n",
    "        assert(t is None or len(t)==dim)\n",
    "        fuse = list(zip(p,t) if t is not None else zip(p,))\n",
    "        data[i,:] = fuse\n",
    "\n",
    "       # Вычислить сплайны по размерности отдельно.\n",
    "    samples = np.zeros([nSamples, dim])\n",
    "    for i in range(dim):\n",
    "        poly = interpolate.BPoly.from_derivatives(d, data[:,i])\n",
    "        samples[:,i] = poly(s)\n",
    "    return samples\n"
   ]
  },
  {
   "cell_type": "code",
   "execution_count": 3,
   "metadata": {},
   "outputs": [],
   "source": [
    "#Вводим данные (входные точки, данные о касательной (направление и величина), параметр параметризации)\n",
    "points = []\n",
    "tangents = []\n",
    "resolution = 0.1\n",
    "points.append([0.,0.]); tangents.append([1,1])\n",
    "points.append([3.,4.]); tangents.append([1,0])\n",
    "points.append([5.,2.]); tangents.append([0,-1])\n",
    "points.append([3.,0.]); tangents.append([-1,-1])\n",
    "points.append([6.,-2.]); tangents.append([0,0])\n",
    "\n",
    "\n",
    "points = np.asarray(points)\n",
    "tangents = np.asarray(tangents)\n",
    "\n",
    "scale = 1.\n",
    "tangents1 = np.dot(tangents, scale*np.eye(2))"
   ]
  },
  {
   "cell_type": "code",
   "execution_count": 4,
   "metadata": {},
   "outputs": [
    {
     "name": "stderr",
     "output_type": "stream",
     "text": [
      "MovieWriter PillowWriter unavailable; trying to use <class 'matplotlib.animation.PillowWriter'> instead.\n"
     ]
    },
    {
     "data": {
      "image/png": "[encoded data removed]",
      "text/plain": [
       "<Figure size 432x288 with 1 Axes>"
      ]
     },
     "metadata": {
      "needs_background": "light"
     },
     "output_type": "display_data"
    }
   ],
   "source": [
    "temp = sample_Cubic_Splines_With_Derivative(points, tangents1, resolution)\n",
    "x_points = temp[:,0]\n",
    "y_points = temp[:,1]\n",
    "\n",
    "\n",
    "fig, ax = plt.subplots()\n",
    "\n",
    "def init():\n",
    "    plt.scatter(points[:,0], points[:,1], s=100, c='k', label='input')\n",
    "\n",
    "def animate(i):    \n",
    "    line = ax.scatter([x_points[i]],[y_points[i]], c = 'g', marker = 'o')\n",
    "    return line\n",
    "\n",
    "anim = animation.FuncAnimation(fig, animate, frames=len(x_points), init_func=init, interval=10, repeat=False)\n",
    "anim.save('аппроксимация кривой.gif', writer='PillowWriter', fps=100)  "
   ]
  }
 ],
 "metadata": {
  "kernelspec": {
   "display_name": "Python 3",
   "language": "python",
   "name": "python3"
  },
  "language_info": {
   "codemirror_mode": {
    "name": "ipython",
    "version": 3
   },
   "file_extension": ".py",
   "mimetype": "text/x-python",
   "name": "python",
   "nbconvert_exporter": "python",
   "pygments_lexer": "ipython3",
   "version": "3.7.6"
  }
 },
 "nbformat": 4,
 "nbformat_minor": 4
}
